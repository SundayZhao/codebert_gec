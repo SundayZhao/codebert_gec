{
 "cells": [
  {
   "cell_type": "code",
   "execution_count": null,
   "id": "282094b1-fcd0-462e-80ec-4b80faa69762",
   "metadata": {},
   "outputs": [],
   "source": [
    "\"\"\"\n",
    "tools/  seq2edit gec模型的本体\n",
    "data/ 文件夹:存放训练、预测时所需的数据和模型\n",
    "    exp/ 模型训练时的权重文件和日志文件保存位置\n",
    "    modelinput/ 训练集，测试集，预测结果存放位置\n",
    "    codebert/ 存放codebert预训练模型位置\n",
    "\"\"\""
   ]
  },
  {
   "cell_type": "code",
   "execution_count": null,
   "id": "45afd136-9c82-471d-8ce2-0da7fb87d9fc",
   "metadata": {},
   "outputs": [],
   "source": [
    "\"\"\"\n",
    "1.下载codebert预训练模型\n",
    "链接：https://pan.baidu.com/s/1iUYfKKiqty3vxSQW9fIAmg \n",
    "提取码：lpc3\n",
    "存放到./data/codebert/内。  命名为pytorch_model.bin\n",
    "\n",
    "2.下载三个预训练模型\n",
    "链接：https://pan.baidu.com/s/1LTt9YIJucoxkk4iReJcaMA \n",
    "提取码：wvgj\n",
    "将model文件夹存放到本脚本的根目录下内\n",
    "\"\"\""
   ]
  },
  {
   "cell_type": "code",
   "execution_count": null,
   "id": "df0315d2-a17b-4454-97b4-64f7a3199783",
   "metadata": {},
   "outputs": [],
   "source": [
    "#必要的库\n",
    "pip install allennlp==1.3.0\n",
    "pip install ltp==4.1.3.post1\n",
    "pip install OpenCC==1.1.2\n",
    "pip install pyarrow\n",
    "pip install python-Levenshtein==0.12.1\n",
    "pip install numpy==1.21.1\n",
    "pip install transformers"
   ]
  },
  {
   "cell_type": "code",
   "execution_count": null,
   "id": "69f041ad-2758-4373-b826-bb91bde4372f",
   "metadata": {},
   "outputs": [],
   "source": [
    "#seq,span,word\n",
    "modeltype='seq'\n",
    "#指定模型文件\n",
    "MODEL_FILE='./model/mode_'+modeltype+'.th'\n",
    "#指定label文件\n",
    "LABEL_FILE='./data/labels/labels_'+modeltype+'.txt'\n",
    "#把模型文件移动到指定文件夹\n",
    "!cp $MODEL_FILE  ./data/exp/Best_code_gec.th\n",
    "!cp $LABEL_FILE  ./data/labels/labels.txt"
   ]
  },
  {
   "cell_type": "code",
   "execution_count": null,
   "id": "67a7bb87-6444-494b-a59a-11706071c197",
   "metadata": {},
   "outputs": [],
   "source": [
    "#模型预测\n",
    "!python predict.py --model_path ./data/exp/Best_code_gec.th \\\n",
    "                  --weights_name ./data/codebert \\\n",
    "                  --vocab_path ./data/labels \\\n",
    "                  --input_file ./data/modelinput/test.src.char \\\n",
    "                  --output_file ./data/modelinput/test.pre.char "
   ]
  },
  {
   "cell_type": "code",
   "execution_count": null,
   "id": "411b9b8e-33af-45f4-860e-44c14b21eeb5",
   "metadata": {},
   "outputs": [],
   "source": [
    "#统计预测结果正确率\n",
    "with open(\"./data/modelinput/test.pre.char\", 'r', encoding='utf-8') as f:\n",
    "        predictionlines = f.readlines()\n",
    "with open(\"./data/modelinput/test.tgt.char\", 'r', encoding='utf-8') as f:\n",
    "        targetlines = f.readlines()      \n",
    "print(len(predictionlines))\n",
    "print(len(targetlines))\n",
    "correct=0\n",
    "for index in range(len(targetlines)):\n",
    "    if targetlines[index].strip()== predictionlines[index].strip():\n",
    "        correct += 1\n",
    "\n",
    "print(f'{correct/len(targetlines):.8f}')"
   ]
  },
  {
   "cell_type": "code",
   "execution_count": null,
   "id": "35f353f1-4bd5-469e-801e-8c2484720a1b",
   "metadata": {},
   "outputs": [],
   "source": [
    "#训练模型\n",
    "#--train_set 训练集\n",
    "#--dev_set 验证集\n",
    "#--model_dir 模型输出目录\n",
    "#--model_name 模型文件名\n",
    "#--vocab_path 词典集\n",
    "#--batch_size 训练时的batch_size大小\n",
    "#--n_epoch 训练周期\n",
    "#--lr 学习率\n",
    "#--accumulation_size 运算多少次后再更新梯度\n",
    "#--weights_name codebert encoder权重位置\n",
    "#--pretrain_folder 预训练模型位置\n",
    "#--pretrain 预训练模型名\n",
    "#--seed 随机种子\n",
    "!python train.py --train_set ./data/modelinput/train.label \\\n",
    "                --dev_set ./data/modelinput/valid.label \\\n",
    "                --model_dir ./data/exp \\\n",
    "                --model_name Gec_Model.th \\\n",
    "                --vocab_path ./data/labels \\\n",
    "                --batch_size 16\\\n",
    "                --n_epoch 150\\\n",
    "                --lr 1e-5\\\n",
    "                --accumulation_size 4\\\n",
    "                --weights_name ./data/codebert\\\n",
    "                --pretrain_folder ./data/exp \\\n",
    "                --pretrain \"Best_code_gec\"\\\n",
    "                --seed 1"
   ]
  }
 ],
 "metadata": {
  "kernelspec": {
   "display_name": "Python 3 (ipykernel)",
   "language": "python",
   "name": "python3"
  },
  "language_info": {
   "codemirror_mode": {
    "name": "ipython",
    "version": 3
   },
   "file_extension": ".py",
   "mimetype": "text/x-python",
   "name": "python",
   "nbconvert_exporter": "python",
   "pygments_lexer": "ipython3",
   "version": "3.7.10"
  }
 },
 "nbformat": 4,
 "nbformat_minor": 5
}
